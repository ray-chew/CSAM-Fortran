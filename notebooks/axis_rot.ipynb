{
 "cells": [
  {
   "cell_type": "code",
   "execution_count": 25,
   "id": "c9ab643a-cc52-4010-b871-b7b53d2ab05a",
   "metadata": {},
   "outputs": [],
   "source": [
    "import numpy as np\n",
    "import matplotlib.pyplot as plt"
   ]
  },
  {
   "cell_type": "code",
   "execution_count": 88,
   "id": "879ad2af-3ceb-474b-b095-768a2e399744",
   "metadata": {},
   "outputs": [],
   "source": [
    "dk = 0.1\n",
    "nu = np.arange(0,101)\n",
    "# print(dk*nu)\n",
    "kk = dk * nu\n",
    "kl = kk * 0.0\n",
    "\n",
    "alpha = 25 # in degrees\n",
    "alpha = alpha / 180.0 * np.pi # convert to radians\n",
    "kkn = kk * np.cos(alpha)\n",
    "kln = kk * np.sin(alpha)\n",
    "\n",
    "lk0 = dk * np.arange(-50,51)\n",
    "# lk0 = kk\n",
    "lk = lk0 * np.cos(np.pi/2.0)\n",
    "ll = lk0 * np.sin(np.pi/2.0)\n",
    "\n",
    "lkn = ll * np.cos(alpha+np.pi/2.0)\n",
    "lln = ll * np.sin(alpha+np.pi/2.0)"
   ]
  },
  {
   "cell_type": "code",
   "execution_count": 89,
   "id": "a900a41a-6c44-4e5d-9b7e-59deae0c7615",
   "metadata": {},
   "outputs": [
    {
     "data": {
      "image/png": "[encoded data removed]",
      "text/plain": [
       "<Figure size 432x288 with 1 Axes>"
      ]
     },
     "metadata": {
      "needs_background": "light"
     },
     "output_type": "display_data"
    },
    {
     "name": "stdout",
     "output_type": "stream",
     "text": [
      "10.0\n",
      "10.0\n",
      "[0.         0.09063078 0.18126156 0.27189234 0.36252311 0.45315389\n",
      " 0.54378467 0.63441545 0.72504623 0.81567701 0.90630779 0.99693857\n",
      " 1.08756934 1.17820012 1.2688309  1.35946168 1.45009246 1.54072324\n",
      " 1.63135402 1.7219848  1.81261557 1.90324635 1.99387713 2.08450791\n",
      " 2.17513869 2.26576947 2.35640025 2.44703102 2.5376618  2.62829258\n",
      " 2.71892336 2.80955414 2.90018492 2.9908157  3.08144648 3.17207725\n",
      " 3.26270803 3.35333881 3.44396959 3.53460037 3.62523115 3.71586193\n",
      " 3.80649271 3.89712348 3.98775426 4.07838504 4.16901582 4.2596466\n",
      " 4.35027738 4.44090816 4.53153894 4.62216971 4.71280049 4.80343127\n",
      " 4.89406205 4.98469283 5.07532361 5.16595439 5.25658516 5.34721594\n",
      " 5.43784672 5.5284775  5.61910828 5.70973906 5.80036984 5.89100062\n",
      " 5.98163139 6.07226217 6.16289295 6.25352373 6.34415451 6.43478529\n",
      " 6.52541607 6.61604685 6.70667762 6.7973084  6.88793918 6.97856996\n",
      " 7.06920074 7.15983152 7.2504623  7.34109307 7.43172385 7.52235463\n",
      " 7.61298541 7.70361619 7.79424697 7.88487775 7.97550853 8.0661393\n",
      " 8.15677008 8.24740086 8.33803164 8.42866242 8.5192932  8.60992398\n",
      " 8.70055476 8.79118553 8.88181631 8.97244709 9.06307787] [0.         0.04226183 0.08452365 0.12678548 0.1690473  0.21130913\n",
      " 0.25357096 0.29583278 0.33809461 0.38035644 0.42261826 0.46488009\n",
      " 0.50714191 0.54940374 0.59166557 0.63392739 0.67618922 0.71845104\n",
      " 0.76071287 0.8029747  0.84523652 0.88749835 0.92976018 0.972022\n",
      " 1.01428383 1.05654565 1.09880748 1.14106931 1.18333113 1.22559296\n",
      " 1.26785479 1.31011661 1.35237844 1.39464026 1.43690209 1.47916392\n",
      " 1.52142574 1.56368757 1.60594939 1.64821122 1.69047305 1.73273487\n",
      " 1.7749967  1.81725853 1.85952035 1.90178218 1.944044   1.98630583\n",
      " 2.02856766 2.07082948 2.11309131 2.15535313 2.19761496 2.23987679\n",
      " 2.28213861 2.32440044 2.36666227 2.40892409 2.45118592 2.49344774\n",
      " 2.53570957 2.5779714  2.62023322 2.66249505 2.70475688 2.7470187\n",
      " 2.78928053 2.83154235 2.87380418 2.91606601 2.95832783 3.00058966\n",
      " 3.04285148 3.08511331 3.12737514 3.16963696 3.21189879 3.25416062\n",
      " 3.29642244 3.33868427 3.38094609 3.42320792 3.46546975 3.50773157\n",
      " 3.5499934  3.59225522 3.63451705 3.67677888 3.7190407  3.76130253\n",
      " 3.80356436 3.84582618 3.88808801 3.93034983 3.97261166 4.01487349\n",
      " 4.05713531 4.09939714 4.14165897 4.18392079 4.22618262]\n"
     ]
    }
   ],
   "source": [
    "plt.figure()\n",
    "plt.plot(kk, kl , 'k')\n",
    "plt.plot(kkn, kln, 'r')\n",
    "plt.plot(lk, ll , 'k')\n",
    "plt.plot(lkn, lln, 'r')\n",
    "plt.show()\n",
    "\n",
    "def mag(vx, vy):\n",
    "    return ( ( (vx[-1] - vx[0])**2  + (vy[-1] - vy[0])**2 )**0.5 )\n",
    "\n",
    "print(mag(kk,kl))\n",
    "print(mag(kkn,kln))\n",
    "\n",
    "print(kkn,kln)"
   ]
  },
  {
   "cell_type": "code",
   "execution_count": 38,
   "id": "3bd58d4d-3dbf-4505-90eb-4349532e6564",
   "metadata": {},
   "outputs": [
    {
     "name": "stdout",
     "output_type": "stream",
     "text": [
      "50.12445251571333\n"
     ]
    }
   ],
   "source": [
    "def calc_norm(a,b):\n",
    "    return (a**2 + b**2)**0.5\n",
    "\n",
    "print(calc_norm(45.384, 21.278))"
   ]
  },
  {
   "cell_type": "code",
   "execution_count": null,
   "id": "9d7ed525-58c5-4c54-9748-1b1fb1c0472d",
   "metadata": {},
   "outputs": [],
   "source": []
  }
 ],
 "metadata": {
  "kernelspec": {
   "display_name": "Python 3 (ipykernel)",
   "language": "python",
   "name": "python3"
  },
  "language_info": {
   "codemirror_mode": {
    "name": "ipython",
    "version": 3
   },
   "file_extension": ".py",
   "mimetype": "text/x-python",
   "name": "python",
   "nbconvert_exporter": "python",
   "pygments_lexer": "ipython3",
   "version": "3.10.4"
  }
 },
 "nbformat": 4,
 "nbformat_minor": 5
}
